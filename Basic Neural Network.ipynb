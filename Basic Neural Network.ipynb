{
 "cells": [
  {
   "cell_type": "markdown",
   "metadata": {},
   "source": [
    "<h3>Here we will be predicting function y=2x-1 depending on input data</h3>"
   ]
  },
  {
   "cell_type": "code",
   "execution_count": 2,
   "metadata": {},
   "outputs": [],
   "source": [
    "import tensorflow as tf\n",
    "from tensorflow import keras"
   ]
  },
  {
   "cell_type": "code",
   "execution_count": 4,
   "metadata": {},
   "outputs": [],
   "source": [
    "model = keras.Sequential([\n",
    "    keras.layers.Dense(units=1, input_shape=[1])\n",
    "])"
   ]
  },
  {
   "cell_type": "code",
   "execution_count": 9,
   "metadata": {},
   "outputs": [],
   "source": [
    "model.compile(optimizer=tf.keras.optimizers.SGD(), loss=tf.keras.losses.MeanSquaredError(), metrics=['accuracy'])"
   ]
  },
  {
   "cell_type": "code",
   "execution_count": 10,
   "metadata": {},
   "outputs": [],
   "source": [
    "import numpy as np\n",
    "xs = np.array([-1.0, 0.0, 1.0, 2.0, 3.0, 4.0], dtype=float)\n",
    "ys = np.array([-3.0, -1.0, 1.0, 3.0, 5.0, 7.0], dtype=float)"
   ]
  },
  {
   "cell_type": "code",
   "execution_count": 13,
   "metadata": {},
   "outputs": [
    {
     "name": "stdout",
     "output_type": "stream",
     "text": [
      "Train on 6 samples\n",
      "Epoch 1/20\n",
      "6/6 [==============================] - 0s 833us/sample - loss: 0.0010 - accuracy: 0.1667\n",
      "Epoch 2/20\n",
      "6/6 [==============================] - 0s 333us/sample - loss: 9.9586e-04 - accuracy: 0.1667\n",
      "Epoch 3/20\n",
      "6/6 [==============================] - 0s 333us/sample - loss: 9.7540e-04 - accuracy: 0.1667\n",
      "Epoch 4/20\n",
      "6/6 [==============================] - 0s 833us/sample - loss: 9.5537e-04 - accuracy: 0.1667\n",
      "Epoch 5/20\n",
      "6/6 [==============================] - 0s 2ms/sample - loss: 9.3574e-04 - accuracy: 0.1667\n",
      "Epoch 6/20\n",
      "6/6 [==============================] - 0s 333us/sample - loss: 9.1652e-04 - accuracy: 0.1667\n",
      "Epoch 7/20\n",
      "6/6 [==============================] - 0s 1ms/sample - loss: 8.9769e-04 - accuracy: 0.1667\n",
      "Epoch 8/20\n",
      "6/6 [==============================] - 0s 500us/sample - loss: 8.7925e-04 - accuracy: 0.1667\n",
      "Epoch 9/20\n",
      "6/6 [==============================] - 0s 1ms/sample - loss: 8.6120e-04 - accuracy: 0.1667\n",
      "Epoch 10/20\n",
      "6/6 [==============================] - 0s 333us/sample - loss: 8.4351e-04 - accuracy: 0.1667\n",
      "Epoch 11/20\n",
      "6/6 [==============================] - 0s 333us/sample - loss: 8.2618e-04 - accuracy: 0.1667\n",
      "Epoch 12/20\n",
      "6/6 [==============================] - 0s 500us/sample - loss: 8.0921e-04 - accuracy: 0.1667\n",
      "Epoch 13/20\n",
      "6/6 [==============================] - 0s 500us/sample - loss: 7.9258e-04 - accuracy: 0.1667\n",
      "Epoch 14/20\n",
      "6/6 [==============================] - 0s 833us/sample - loss: 7.7630e-04 - accuracy: 0.1667\n",
      "Epoch 15/20\n",
      "6/6 [==============================] - 0s 667us/sample - loss: 7.6036e-04 - accuracy: 0.1667\n",
      "Epoch 16/20\n",
      "6/6 [==============================] - 0s 333us/sample - loss: 7.4474e-04 - accuracy: 0.1667\n",
      "Epoch 17/20\n",
      "6/6 [==============================] - 0s 167us/sample - loss: 7.2944e-04 - accuracy: 0.1667\n",
      "Epoch 18/20\n",
      "6/6 [==============================] - 0s 333us/sample - loss: 7.1446e-04 - accuracy: 0.1667\n",
      "Epoch 19/20\n",
      "6/6 [==============================] - 0s 500us/sample - loss: 6.9978e-04 - accuracy: 0.1667\n",
      "Epoch 20/20\n",
      "6/6 [==============================] - 0s 500us/sample - loss: 6.8541e-04 - accuracy: 0.1667\n"
     ]
    },
    {
     "data": {
      "text/plain": [
       "<tensorflow.python.keras.callbacks.History at 0x12e834a8>"
      ]
     },
     "execution_count": 13,
     "metadata": {},
     "output_type": "execute_result"
    }
   ],
   "source": [
    "model.fit(xs, ys, epochs=20)"
   ]
  },
  {
   "cell_type": "code",
   "execution_count": 14,
   "metadata": {},
   "outputs": [
    {
     "data": {
      "text/plain": [
       "array([[18.923618]], dtype=float32)"
      ]
     },
     "execution_count": 14,
     "metadata": {},
     "output_type": "execute_result"
    }
   ],
   "source": [
    "prediction = model.predict([10.0])\n",
    "prediction"
   ]
  }
 ],
 "metadata": {
  "kernelspec": {
   "display_name": "Python 3",
   "language": "python",
   "name": "python3"
  },
  "language_info": {
   "codemirror_mode": {
    "name": "ipython",
    "version": 3
   },
   "file_extension": ".py",
   "mimetype": "text/x-python",
   "name": "python",
   "nbconvert_exporter": "python",
   "pygments_lexer": "ipython3",
   "version": "3.6.8"
  }
 },
 "nbformat": 4,
 "nbformat_minor": 4
}
