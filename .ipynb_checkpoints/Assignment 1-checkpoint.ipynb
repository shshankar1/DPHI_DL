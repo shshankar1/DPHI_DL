{
 "cells": [
  {
   "cell_type": "code",
   "execution_count": 86,
   "metadata": {},
   "outputs": [],
   "source": [
    "import pandas as pd\n",
    "\n",
    "bank_note_data = pd.read_csv(\"https://raw.githubusercontent.com/dphi-official/Datasets/master/bank_note_data/training_set_label.csv\" )"
   ]
  },
  {
   "cell_type": "code",
   "execution_count": 87,
   "metadata": {},
   "outputs": [
    {
     "data": {
      "text/html": [
       "<div>\n",
       "<style scoped>\n",
       "    .dataframe tbody tr th:only-of-type {\n",
       "        vertical-align: middle;\n",
       "    }\n",
       "\n",
       "    .dataframe tbody tr th {\n",
       "        vertical-align: top;\n",
       "    }\n",
       "\n",
       "    .dataframe thead th {\n",
       "        text-align: right;\n",
       "    }\n",
       "</style>\n",
       "<table border=\"1\" class=\"dataframe\">\n",
       "  <thead>\n",
       "    <tr style=\"text-align: right;\">\n",
       "      <th></th>\n",
       "      <th>VWTI</th>\n",
       "      <th>SWTI</th>\n",
       "      <th>CWTI</th>\n",
       "      <th>EI</th>\n",
       "      <th>Class</th>\n",
       "    </tr>\n",
       "  </thead>\n",
       "  <tbody>\n",
       "    <tr>\n",
       "      <th>0</th>\n",
       "      <td>2.263400</td>\n",
       "      <td>-4.4862</td>\n",
       "      <td>3.65580</td>\n",
       "      <td>-0.612510</td>\n",
       "      <td>0</td>\n",
       "    </tr>\n",
       "    <tr>\n",
       "      <th>1</th>\n",
       "      <td>3.271800</td>\n",
       "      <td>1.7837</td>\n",
       "      <td>2.11610</td>\n",
       "      <td>0.613340</td>\n",
       "      <td>0</td>\n",
       "    </tr>\n",
       "    <tr>\n",
       "      <th>2</th>\n",
       "      <td>-3.941100</td>\n",
       "      <td>-12.8792</td>\n",
       "      <td>13.05970</td>\n",
       "      <td>-3.312500</td>\n",
       "      <td>1</td>\n",
       "    </tr>\n",
       "    <tr>\n",
       "      <th>3</th>\n",
       "      <td>0.519500</td>\n",
       "      <td>-3.2633</td>\n",
       "      <td>3.08950</td>\n",
       "      <td>-0.984900</td>\n",
       "      <td>0</td>\n",
       "    </tr>\n",
       "    <tr>\n",
       "      <th>4</th>\n",
       "      <td>2.569800</td>\n",
       "      <td>-4.4076</td>\n",
       "      <td>5.98560</td>\n",
       "      <td>0.078002</td>\n",
       "      <td>0</td>\n",
       "    </tr>\n",
       "    <tr>\n",
       "      <th>...</th>\n",
       "      <td>...</td>\n",
       "      <td>...</td>\n",
       "      <td>...</td>\n",
       "      <td>...</td>\n",
       "      <td>...</td>\n",
       "    </tr>\n",
       "    <tr>\n",
       "      <th>1091</th>\n",
       "      <td>1.640600</td>\n",
       "      <td>3.5488</td>\n",
       "      <td>1.39640</td>\n",
       "      <td>-0.364240</td>\n",
       "      <td>0</td>\n",
       "    </tr>\n",
       "    <tr>\n",
       "      <th>1092</th>\n",
       "      <td>-0.048008</td>\n",
       "      <td>-1.6037</td>\n",
       "      <td>8.47560</td>\n",
       "      <td>0.755580</td>\n",
       "      <td>0</td>\n",
       "    </tr>\n",
       "    <tr>\n",
       "      <th>1093</th>\n",
       "      <td>2.942100</td>\n",
       "      <td>7.4101</td>\n",
       "      <td>-0.97709</td>\n",
       "      <td>-0.884060</td>\n",
       "      <td>0</td>\n",
       "    </tr>\n",
       "    <tr>\n",
       "      <th>1094</th>\n",
       "      <td>1.964700</td>\n",
       "      <td>6.9383</td>\n",
       "      <td>0.57722</td>\n",
       "      <td>0.663770</td>\n",
       "      <td>0</td>\n",
       "    </tr>\n",
       "    <tr>\n",
       "      <th>1095</th>\n",
       "      <td>-0.126240</td>\n",
       "      <td>10.3216</td>\n",
       "      <td>-3.71210</td>\n",
       "      <td>-6.118500</td>\n",
       "      <td>0</td>\n",
       "    </tr>\n",
       "  </tbody>\n",
       "</table>\n",
       "<p>1096 rows × 5 columns</p>\n",
       "</div>"
      ],
      "text/plain": [
       "          VWTI     SWTI      CWTI        EI  Class\n",
       "0     2.263400  -4.4862   3.65580 -0.612510      0\n",
       "1     3.271800   1.7837   2.11610  0.613340      0\n",
       "2    -3.941100 -12.8792  13.05970 -3.312500      1\n",
       "3     0.519500  -3.2633   3.08950 -0.984900      0\n",
       "4     2.569800  -4.4076   5.98560  0.078002      0\n",
       "...        ...      ...       ...       ...    ...\n",
       "1091  1.640600   3.5488   1.39640 -0.364240      0\n",
       "1092 -0.048008  -1.6037   8.47560  0.755580      0\n",
       "1093  2.942100   7.4101  -0.97709 -0.884060      0\n",
       "1094  1.964700   6.9383   0.57722  0.663770      0\n",
       "1095 -0.126240  10.3216  -3.71210 -6.118500      0\n",
       "\n",
       "[1096 rows x 5 columns]"
      ]
     },
     "execution_count": 87,
     "metadata": {},
     "output_type": "execute_result"
    }
   ],
   "source": [
    "bank_note_data"
   ]
  },
  {
   "cell_type": "code",
   "execution_count": 88,
   "metadata": {},
   "outputs": [
    {
     "data": {
      "text/html": [
       "<div>\n",
       "<style scoped>\n",
       "    .dataframe tbody tr th:only-of-type {\n",
       "        vertical-align: middle;\n",
       "    }\n",
       "\n",
       "    .dataframe tbody tr th {\n",
       "        vertical-align: top;\n",
       "    }\n",
       "\n",
       "    .dataframe thead th {\n",
       "        text-align: right;\n",
       "    }\n",
       "</style>\n",
       "<table border=\"1\" class=\"dataframe\">\n",
       "  <thead>\n",
       "    <tr style=\"text-align: right;\">\n",
       "      <th></th>\n",
       "      <th>VWTI</th>\n",
       "      <th>SWTI</th>\n",
       "      <th>CWTI</th>\n",
       "      <th>EI</th>\n",
       "      <th>Class</th>\n",
       "    </tr>\n",
       "  </thead>\n",
       "  <tbody>\n",
       "    <tr>\n",
       "      <th>count</th>\n",
       "      <td>1096.000000</td>\n",
       "      <td>1096.000000</td>\n",
       "      <td>1096.000000</td>\n",
       "      <td>1096.000000</td>\n",
       "      <td>1096.000000</td>\n",
       "    </tr>\n",
       "    <tr>\n",
       "      <th>mean</th>\n",
       "      <td>0.448500</td>\n",
       "      <td>1.780643</td>\n",
       "      <td>1.493533</td>\n",
       "      <td>-1.157454</td>\n",
       "      <td>0.445255</td>\n",
       "    </tr>\n",
       "    <tr>\n",
       "      <th>std</th>\n",
       "      <td>2.852623</td>\n",
       "      <td>5.922621</td>\n",
       "      <td>4.375655</td>\n",
       "      <td>2.084983</td>\n",
       "      <td>0.497221</td>\n",
       "    </tr>\n",
       "    <tr>\n",
       "      <th>min</th>\n",
       "      <td>-7.036400</td>\n",
       "      <td>-13.773100</td>\n",
       "      <td>-5.286100</td>\n",
       "      <td>-8.548200</td>\n",
       "      <td>0.000000</td>\n",
       "    </tr>\n",
       "    <tr>\n",
       "      <th>25%</th>\n",
       "      <td>-1.790850</td>\n",
       "      <td>-2.125200</td>\n",
       "      <td>-1.574975</td>\n",
       "      <td>-2.246975</td>\n",
       "      <td>0.000000</td>\n",
       "    </tr>\n",
       "    <tr>\n",
       "      <th>50%</th>\n",
       "      <td>0.540430</td>\n",
       "      <td>2.205850</td>\n",
       "      <td>0.671900</td>\n",
       "      <td>-0.569190</td>\n",
       "      <td>0.000000</td>\n",
       "    </tr>\n",
       "    <tr>\n",
       "      <th>75%</th>\n",
       "      <td>2.835350</td>\n",
       "      <td>6.793925</td>\n",
       "      <td>3.574450</td>\n",
       "      <td>0.399980</td>\n",
       "      <td>1.000000</td>\n",
       "    </tr>\n",
       "    <tr>\n",
       "      <th>max</th>\n",
       "      <td>6.563300</td>\n",
       "      <td>12.730200</td>\n",
       "      <td>17.927400</td>\n",
       "      <td>2.449500</td>\n",
       "      <td>1.000000</td>\n",
       "    </tr>\n",
       "  </tbody>\n",
       "</table>\n",
       "</div>"
      ],
      "text/plain": [
       "              VWTI         SWTI         CWTI           EI        Class\n",
       "count  1096.000000  1096.000000  1096.000000  1096.000000  1096.000000\n",
       "mean      0.448500     1.780643     1.493533    -1.157454     0.445255\n",
       "std       2.852623     5.922621     4.375655     2.084983     0.497221\n",
       "min      -7.036400   -13.773100    -5.286100    -8.548200     0.000000\n",
       "25%      -1.790850    -2.125200    -1.574975    -2.246975     0.000000\n",
       "50%       0.540430     2.205850     0.671900    -0.569190     0.000000\n",
       "75%       2.835350     6.793925     3.574450     0.399980     1.000000\n",
       "max       6.563300    12.730200    17.927400     2.449500     1.000000"
      ]
     },
     "execution_count": 88,
     "metadata": {},
     "output_type": "execute_result"
    }
   ],
   "source": [
    "bank_note_data.describe()"
   ]
  },
  {
   "cell_type": "code",
   "execution_count": 89,
   "metadata": {},
   "outputs": [
    {
     "data": {
      "text/plain": [
       "array([0, 1], dtype=int64)"
      ]
     },
     "execution_count": 89,
     "metadata": {},
     "output_type": "execute_result"
    }
   ],
   "source": [
    "bank_note_data.Class.unique()"
   ]
  },
  {
   "cell_type": "code",
   "execution_count": 90,
   "metadata": {},
   "outputs": [
    {
     "name": "stdout",
     "output_type": "stream",
     "text": [
      "608\n",
      "488\n"
     ]
    }
   ],
   "source": [
    "print(len(bank_note_data[bank_note_data['Class']==0.0]))\n",
    "print(len(bank_note_data[bank_note_data['Class']==1.0]))"
   ]
  },
  {
   "cell_type": "code",
   "execution_count": 95,
   "metadata": {},
   "outputs": [
    {
     "data": {
      "text/plain": [
       "<matplotlib.axes._subplots.AxesSubplot at 0x200d1940>"
      ]
     },
     "execution_count": 95,
     "metadata": {},
     "output_type": "execute_result"
    },
    {
     "data": {
      "image/png": "[encoded data removed]",
      "text/plain": [
       "<Figure size 432x288 with 1 Axes>"
      ]
     },
     "metadata": {
      "needs_background": "light"
     },
     "output_type": "display_data"
    }
   ],
   "source": [
    "%matplotlib inline\n",
    "import matplotlib.pyplot as plt\n",
    "\n",
    "bank_note_data[['VWTI', 'SWTI', 'CWTI', 'EI']].plot(kind='box')"
   ]
  },
  {
   "cell_type": "markdown",
   "metadata": {},
   "source": [
    "<pre>\n",
    "1. Box plot shows there are too many outliers for feature CWTI and EI. This need to be considered while modelling the classifier in case test results are not satisfactory.\n",
    "</pre>"
   ]
  },
  {
   "cell_type": "code",
   "execution_count": 96,
   "metadata": {},
   "outputs": [
    {
     "data": {
      "text/plain": [
       "<matplotlib.axes._subplots.AxesSubplot at 0x201793c8>"
      ]
     },
     "execution_count": 96,
     "metadata": {},
     "output_type": "execute_result"
    },
    {
     "data": {
      "image/png": "[encoded data removed]",
      "text/plain": [
       "<Figure size 432x288 with 2 Axes>"
      ]
     },
     "metadata": {
      "needs_background": "light"
     },
     "output_type": "display_data"
    }
   ],
   "source": [
    "import seaborn as sns\n",
    "\n",
    "# Var_Corr = bank_note_data[['VWTI', 'SWTI', 'CWTI', 'EI']].corr()\n",
    "Var_Corr = bank_note_data.corr()\n",
    "# plot the heatmap and annotation on it\n",
    "sns.heatmap(Var_Corr, xticklabels=Var_Corr.columns, yticklabels=Var_Corr.columns, annot=True)"
   ]
  },
  {
   "cell_type": "markdown",
   "metadata": {},
   "source": [
    "<pre>\n",
    "1. From correlation matrix, it is conclusive that feature CWTI and SWTI are strongly negatively correlated.\n",
    "</pre>"
   ]
  },
  {
   "cell_type": "code",
   "execution_count": 93,
   "metadata": {},
   "outputs": [
    {
     "data": {
      "text/html": [
       "<div>\n",
       "<style scoped>\n",
       "    .dataframe tbody tr th:only-of-type {\n",
       "        vertical-align: middle;\n",
       "    }\n",
       "\n",
       "    .dataframe tbody tr th {\n",
       "        vertical-align: top;\n",
       "    }\n",
       "\n",
       "    .dataframe thead th {\n",
       "        text-align: right;\n",
       "    }\n",
       "</style>\n",
       "<table border=\"1\" class=\"dataframe\">\n",
       "  <thead>\n",
       "    <tr style=\"text-align: right;\">\n",
       "      <th></th>\n",
       "      <th>VWTI</th>\n",
       "      <th>SWTI</th>\n",
       "      <th>CWTI</th>\n",
       "      <th>EI</th>\n",
       "    </tr>\n",
       "  </thead>\n",
       "  <tbody>\n",
       "    <tr>\n",
       "      <th>0</th>\n",
       "      <td>0.636512</td>\n",
       "      <td>-1.058603</td>\n",
       "      <td>0.494384</td>\n",
       "      <td>0.261485</td>\n",
       "    </tr>\n",
       "    <tr>\n",
       "      <th>1</th>\n",
       "      <td>0.990172</td>\n",
       "      <td>0.000516</td>\n",
       "      <td>0.142345</td>\n",
       "      <td>0.849696</td>\n",
       "    </tr>\n",
       "    <tr>\n",
       "      <th>2</th>\n",
       "      <td>-1.539497</td>\n",
       "      <td>-2.476359</td>\n",
       "      <td>2.644506</td>\n",
       "      <td>-1.034076</td>\n",
       "    </tr>\n",
       "    <tr>\n",
       "      <th>3</th>\n",
       "      <td>0.024901</td>\n",
       "      <td>-0.852029</td>\n",
       "      <td>0.364904</td>\n",
       "      <td>0.082798</td>\n",
       "    </tr>\n",
       "    <tr>\n",
       "      <th>4</th>\n",
       "      <td>0.743971</td>\n",
       "      <td>-1.045326</td>\n",
       "      <td>1.027073</td>\n",
       "      <td>0.592820</td>\n",
       "    </tr>\n",
       "    <tr>\n",
       "      <th>...</th>\n",
       "      <td>...</td>\n",
       "      <td>...</td>\n",
       "      <td>...</td>\n",
       "      <td>...</td>\n",
       "    </tr>\n",
       "    <tr>\n",
       "      <th>1091</th>\n",
       "      <td>0.418087</td>\n",
       "      <td>0.298679</td>\n",
       "      <td>-0.022209</td>\n",
       "      <td>0.380615</td>\n",
       "    </tr>\n",
       "    <tr>\n",
       "      <th>1092</th>\n",
       "      <td>-0.174133</td>\n",
       "      <td>-0.571687</td>\n",
       "      <td>1.596391</td>\n",
       "      <td>0.917948</td>\n",
       "    </tr>\n",
       "    <tr>\n",
       "      <th>1093</th>\n",
       "      <td>0.874542</td>\n",
       "      <td>0.950935</td>\n",
       "      <td>-0.564887</td>\n",
       "      <td>0.131185</td>\n",
       "    </tr>\n",
       "    <tr>\n",
       "      <th>1094</th>\n",
       "      <td>0.531753</td>\n",
       "      <td>0.871238</td>\n",
       "      <td>-0.209507</td>\n",
       "      <td>0.873894</td>\n",
       "    </tr>\n",
       "    <tr>\n",
       "      <th>1095</th>\n",
       "      <td>-0.201570</td>\n",
       "      <td>1.442749</td>\n",
       "      <td>-1.190224</td>\n",
       "      <td>-2.380504</td>\n",
       "    </tr>\n",
       "  </tbody>\n",
       "</table>\n",
       "<p>1096 rows × 4 columns</p>\n",
       "</div>"
      ],
      "text/plain": [
       "          VWTI      SWTI      CWTI        EI\n",
       "0     0.636512 -1.058603  0.494384  0.261485\n",
       "1     0.990172  0.000516  0.142345  0.849696\n",
       "2    -1.539497 -2.476359  2.644506 -1.034076\n",
       "3     0.024901 -0.852029  0.364904  0.082798\n",
       "4     0.743971 -1.045326  1.027073  0.592820\n",
       "...        ...       ...       ...       ...\n",
       "1091  0.418087  0.298679 -0.022209  0.380615\n",
       "1092 -0.174133 -0.571687  1.596391  0.917948\n",
       "1093  0.874542  0.950935 -0.564887  0.131185\n",
       "1094  0.531753  0.871238 -0.209507  0.873894\n",
       "1095 -0.201570  1.442749 -1.190224 -2.380504\n",
       "\n",
       "[1096 rows x 4 columns]"
      ]
     },
     "execution_count": 93,
     "metadata": {},
     "output_type": "execute_result"
    }
   ],
   "source": [
    "from sklearn.preprocessing import StandardScaler\n",
    "\n",
    "scaler = StandardScaler()\n",
    "scaled_data = scaler.fit_transform(bank_note_data[['VWTI', 'SWTI', 'CWTI', 'EI']])\n",
    "bank_note_data_scaled = pd.DataFrame(scaled_data, columns = ['VWTI', 'SWTI', 'CWTI', 'EI'])\n",
    "bank_note_data_scaled"
   ]
  },
  {
   "cell_type": "code",
   "execution_count": 94,
   "metadata": {},
   "outputs": [
    {
     "data": {
      "text/html": [
       "<div>\n",
       "<style scoped>\n",
       "    .dataframe tbody tr th:only-of-type {\n",
       "        vertical-align: middle;\n",
       "    }\n",
       "\n",
       "    .dataframe tbody tr th {\n",
       "        vertical-align: top;\n",
       "    }\n",
       "\n",
       "    .dataframe thead th {\n",
       "        text-align: right;\n",
       "    }\n",
       "</style>\n",
       "<table border=\"1\" class=\"dataframe\">\n",
       "  <thead>\n",
       "    <tr style=\"text-align: right;\">\n",
       "      <th></th>\n",
       "      <th>VWTI</th>\n",
       "      <th>SWTI</th>\n",
       "      <th>CWTI</th>\n",
       "      <th>EI</th>\n",
       "    </tr>\n",
       "  </thead>\n",
       "  <tbody>\n",
       "    <tr>\n",
       "      <th>count</th>\n",
       "      <td>1.096000e+03</td>\n",
       "      <td>1.096000e+03</td>\n",
       "      <td>1.096000e+03</td>\n",
       "      <td>1.096000e+03</td>\n",
       "    </tr>\n",
       "    <tr>\n",
       "      <th>mean</th>\n",
       "      <td>4.862291e-18</td>\n",
       "      <td>-3.403603e-17</td>\n",
       "      <td>1.620764e-18</td>\n",
       "      <td>8.427970e-17</td>\n",
       "    </tr>\n",
       "    <tr>\n",
       "      <th>std</th>\n",
       "      <td>1.000457e+00</td>\n",
       "      <td>1.000457e+00</td>\n",
       "      <td>1.000457e+00</td>\n",
       "      <td>1.000457e+00</td>\n",
       "    </tr>\n",
       "    <tr>\n",
       "      <th>min</th>\n",
       "      <td>-2.625064e+00</td>\n",
       "      <td>-2.627358e+00</td>\n",
       "      <td>-1.550106e+00</td>\n",
       "      <td>-3.546370e+00</td>\n",
       "    </tr>\n",
       "    <tr>\n",
       "      <th>25%</th>\n",
       "      <td>-7.853729e-01</td>\n",
       "      <td>-6.597799e-01</td>\n",
       "      <td>-7.015884e-01</td>\n",
       "      <td>-5.227951e-01</td>\n",
       "    </tr>\n",
       "    <tr>\n",
       "      <th>50%</th>\n",
       "      <td>3.224102e-02</td>\n",
       "      <td>7.182648e-02</td>\n",
       "      <td>-1.878594e-01</td>\n",
       "      <td>2.822719e-01</td>\n",
       "    </tr>\n",
       "    <tr>\n",
       "      <th>75%</th>\n",
       "      <td>8.371030e-01</td>\n",
       "      <td>8.468499e-01</td>\n",
       "      <td>4.757841e-01</td>\n",
       "      <td>7.473176e-01</td>\n",
       "    </tr>\n",
       "    <tr>\n",
       "      <th>max</th>\n",
       "      <td>2.144549e+00</td>\n",
       "      <td>1.849613e+00</td>\n",
       "      <td>3.757465e+00</td>\n",
       "      <td>1.730758e+00</td>\n",
       "    </tr>\n",
       "  </tbody>\n",
       "</table>\n",
       "</div>"
      ],
      "text/plain": [
       "               VWTI          SWTI          CWTI            EI\n",
       "count  1.096000e+03  1.096000e+03  1.096000e+03  1.096000e+03\n",
       "mean   4.862291e-18 -3.403603e-17  1.620764e-18  8.427970e-17\n",
       "std    1.000457e+00  1.000457e+00  1.000457e+00  1.000457e+00\n",
       "min   -2.625064e+00 -2.627358e+00 -1.550106e+00 -3.546370e+00\n",
       "25%   -7.853729e-01 -6.597799e-01 -7.015884e-01 -5.227951e-01\n",
       "50%    3.224102e-02  7.182648e-02 -1.878594e-01  2.822719e-01\n",
       "75%    8.371030e-01  8.468499e-01  4.757841e-01  7.473176e-01\n",
       "max    2.144549e+00  1.849613e+00  3.757465e+00  1.730758e+00"
      ]
     },
     "execution_count": 94,
     "metadata": {},
     "output_type": "execute_result"
    }
   ],
   "source": [
    "bank_note_data_scaled.describe()"
   ]
  },
  {
   "cell_type": "markdown",
   "metadata": {},
   "source": [
    "### I tried model training with scaled data, but results were not promising\n"
   ]
  },
  {
   "cell_type": "code",
   "execution_count": 98,
   "metadata": {},
   "outputs": [
    {
     "name": "stdout",
     "output_type": "stream",
     "text": [
      "[[  2.2634   -4.4862    3.6558   -0.61251]\n",
      " [  3.2718    1.7837    2.1161    0.61334]\n",
      " [ -3.9411  -12.8792   13.0597   -3.3125 ]\n",
      " ...\n",
      " [  2.9421    7.4101   -0.97709  -0.88406]\n",
      " [  1.9647    6.9383    0.57722   0.66377]\n",
      " [ -0.12624  10.3216   -3.7121   -6.1185 ]]\n",
      "[0 0 1 ... 0 0 0]\n"
     ]
    }
   ],
   "source": [
    "features = bank_note_data[['VWTI', 'SWTI', 'CWTI', 'EI']].iloc[:,:].values\n",
    "labels = bank_note_data.iloc[:,-1].values\n",
    "print(features)\n",
    "print(labels)"
   ]
  },
  {
   "cell_type": "code",
   "execution_count": 99,
   "metadata": {},
   "outputs": [
    {
     "name": "stdout",
     "output_type": "stream",
     "text": [
      "876\n",
      "876\n",
      "220\n",
      "220\n"
     ]
    }
   ],
   "source": [
    "from sklearn.model_selection import train_test_split\n",
    "\n",
    "X_train, X_test, y_train, y_test = train_test_split(features, labels, test_size=0.2)\n",
    "print(len(X_train))\n",
    "print(len(y_train))\n",
    "print(len(X_test))\n",
    "print(len(y_test))"
   ]
  },
  {
   "cell_type": "code",
   "execution_count": 117,
   "metadata": {},
   "outputs": [],
   "source": [
    "import tensorflow as tf\n",
    "\n",
    "model = tf.keras.models.Sequential()\n",
    "model.add(tf.keras.layers.Flatten(input_shape=(4,)))\n",
    "model.add(tf.keras.layers.Dense(8, activation=tf.nn.relu))\n",
    "model.add(tf.keras.layers.Dense(1, activation=tf.nn.sigmoid))"
   ]
  },
  {
   "cell_type": "markdown",
   "metadata": {},
   "source": [
    "### Tested 3 variations of optimizer:\n",
    "#### 1. Adam\n",
    "#### 2. RMSProp\n",
    "#### 3. SGD\n",
    "\n",
    "Out of given 3, SGD gave better accuracy with classification problem."
   ]
  },
  {
   "cell_type": "code",
   "execution_count": null,
   "metadata": {},
   "outputs": [],
   "source": [
    "optimiser = tf.keras.optimizers.Adam()\n",
    "# optimiser = tf.keras.optimizers.RMSprop(lr=.001)\n",
    "# optimizer = tf.keras.optimizers.SGD(learning_rate=0.01)\n",
    "model.compile (optimizer= optimiser, loss='binary_crossentropy', metrics = ['accuracy'])"
   ]
  },
  {
   "cell_type": "code",
   "execution_count": 127,
   "metadata": {},
   "outputs": [
    {
     "name": "stdout",
     "output_type": "stream",
     "text": [
      "Train on 876 samples\n",
      "Epoch 1/20\n",
      "876/876 [==============================] - 0s 112us/sample - loss: 0.1270 - accuracy: 0.9749\n",
      "Epoch 2/20\n",
      "876/876 [==============================] - 0s 116us/sample - loss: 0.1205 - accuracy: 0.9772\n",
      "Epoch 3/20\n",
      "876/876 [==============================] - 0s 88us/sample - loss: 0.1145 - accuracy: 0.9817\n",
      "Epoch 4/20\n",
      "876/876 [==============================] - 0s 112us/sample - loss: 0.1088 - accuracy: 0.9840\n",
      "Epoch 5/20\n",
      "876/876 [==============================] - 0s 91us/sample - loss: 0.1036 - accuracy: 0.9852\n",
      "Epoch 6/20\n",
      "876/876 [==============================] - 0s 95us/sample - loss: 0.0987 - accuracy: 0.9874\n",
      "Epoch 7/20\n",
      "876/876 [==============================] - 0s 92us/sample - loss: 0.0942 - accuracy: 0.9909\n",
      "Epoch 8/20\n",
      "876/876 [==============================] - 0s 97us/sample - loss: 0.0899 - accuracy: 0.9909\n",
      "Epoch 9/20\n",
      "876/876 [==============================] - 0s 89us/sample - loss: 0.0859 - accuracy: 0.9920\n",
      "Epoch 10/20\n",
      "876/876 [==============================] - 0s 95us/sample - loss: 0.0819 - accuracy: 0.9920\n",
      "Epoch 11/20\n",
      "876/876 [==============================] - 0s 102us/sample - loss: 0.0784 - accuracy: 0.9966\n",
      "Epoch 12/20\n",
      "876/876 [==============================] - 0s 88us/sample - loss: 0.0750 - accuracy: 0.9977\n",
      "Epoch 13/20\n",
      "876/876 [==============================] - 0s 95us/sample - loss: 0.0717 - accuracy: 0.9989\n",
      "Epoch 14/20\n",
      "876/876 [==============================] - ETA: 0s - loss: 0.0714 - accuracy: 0.99 - 0s 105us/sample - loss: 0.0688 - accuracy: 0.9989\n",
      "Epoch 15/20\n",
      "876/876 [==============================] - 0s 151us/sample - loss: 0.0659 - accuracy: 0.9989\n",
      "Epoch 16/20\n",
      "876/876 [==============================] - 0s 103us/sample - loss: 0.0633 - accuracy: 0.9989\n",
      "Epoch 17/20\n",
      "876/876 [==============================] - 0s 99us/sample - loss: 0.0607 - accuracy: 0.9989\n",
      "Epoch 18/20\n",
      "876/876 [==============================] - 0s 97us/sample - loss: 0.0582 - accuracy: 1.0000\n",
      "Epoch 19/20\n",
      "876/876 [==============================] - 0s 106us/sample - loss: 0.0560 - accuracy: 1.0000\n",
      "Epoch 20/20\n",
      "876/876 [==============================] - 0s 112us/sample - loss: 0.0538 - accuracy: 1.0000\n"
     ]
    },
    {
     "data": {
      "text/plain": [
       "<tensorflow.python.keras.callbacks.History at 0x21fce860>"
      ]
     },
     "execution_count": 127,
     "metadata": {},
     "output_type": "execute_result"
    }
   ],
   "source": [
    "model.fit(X_train, y_train, batch_size=32, epochs=20)"
   ]
  },
  {
   "cell_type": "code",
   "execution_count": 128,
   "metadata": {},
   "outputs": [
    {
     "name": "stdout",
     "output_type": "stream",
     "text": [
      "220/220 [==============================] - 0s 127us/sample - loss: 0.0531 - accuracy: 0.9955\n",
      "Test accuracy: 0.99545455\n"
     ]
    }
   ],
   "source": [
    "test_loss, test_acc = model.evaluate(X_test, y_test)\n",
    "print('Test accuracy:', test_acc)"
   ]
  },
  {
   "cell_type": "markdown",
   "metadata": {},
   "source": [
    "### Evaluating model against unseen test data"
   ]
  },
  {
   "cell_type": "code",
   "execution_count": 129,
   "metadata": {},
   "outputs": [],
   "source": [
    "test_data = pd.read_csv('https://raw.githubusercontent.com/dphi-official/Datasets/master/bank_note_data/testing_set_label.csv')"
   ]
  },
  {
   "cell_type": "code",
   "execution_count": 130,
   "metadata": {},
   "outputs": [
    {
     "data": {
      "text/plain": [
       "array([[-0.40804 ,  0.54214 , -0.52725 ,  0.6586  ],\n",
       "       [-3.7181  , -8.5089  , 12.363   , -0.95518 ],\n",
       "       [ 5.504   , 10.3671  , -4.413   , -4.0211  ],\n",
       "       ...,\n",
       "       [ 4.3846  , -4.8794  ,  3.3662  , -0.029324],\n",
       "       [ 3.884   , 10.0277  , -3.9298  , -4.0819  ],\n",
       "       [ 3.8846  , -3.0336  ,  2.5334  ,  0.20214 ]])"
      ]
     },
     "execution_count": 130,
     "metadata": {},
     "output_type": "execute_result"
    }
   ],
   "source": [
    "test_data_input = test_data.iloc[:,:].values\n",
    "test_data_input"
   ]
  },
  {
   "cell_type": "code",
   "execution_count": 131,
   "metadata": {},
   "outputs": [],
   "source": [
    "prediction = model.predict(test_data_input)"
   ]
  },
  {
   "cell_type": "code",
   "execution_count": 132,
   "metadata": {},
   "outputs": [
    {
     "data": {
      "text/plain": [
       "array([[6.05436504e-01],\n",
       "       [9.89255309e-01],\n",
       "       [6.76304102e-04],\n",
       "       [2.44662166e-03],\n",
       "       [1.55451894e-03],\n",
       "       [7.35915422e-01],\n",
       "       [9.55937922e-01],\n",
       "       [3.20303500e-01],\n",
       "       [8.94704700e-01],\n",
       "       [9.88122702e-01],\n",
       "       [5.02827764e-03],\n",
       "       [8.39221716e-01],\n",
       "       [5.16176224e-05],\n",
       "       [9.91515458e-01],\n",
       "       [4.87864017e-05],\n",
       "       [2.09748745e-03],\n",
       "       [1.69634819e-04],\n",
       "       [8.35442364e-01],\n",
       "       [2.58645415e-03],\n",
       "       [9.92589772e-01],\n",
       "       [9.04551983e-01],\n",
       "       [9.47268963e-01],\n",
       "       [1.00582838e-04],\n",
       "       [6.50376081e-04],\n",
       "       [2.19318271e-03],\n",
       "       [9.50982809e-01],\n",
       "       [8.40693712e-04],\n",
       "       [1.52856112e-04],\n",
       "       [8.54631424e-01],\n",
       "       [8.22193027e-01],\n",
       "       [7.55282164e-01],\n",
       "       [8.68702412e-01],\n",
       "       [1.96003914e-03],\n",
       "       [1.66934729e-03],\n",
       "       [1.05615556e-02],\n",
       "       [9.77018237e-01],\n",
       "       [9.75428700e-01],\n",
       "       [8.39599967e-03],\n",
       "       [1.28068924e-02],\n",
       "       [8.97200704e-01],\n",
       "       [7.42974579e-01],\n",
       "       [4.27811444e-02],\n",
       "       [9.25532401e-01],\n",
       "       [2.58099437e-02],\n",
       "       [9.92128193e-01],\n",
       "       [9.75117564e-01],\n",
       "       [9.58945870e-01],\n",
       "       [6.39801860e-01],\n",
       "       [2.14892626e-03],\n",
       "       [1.75120234e-02],\n",
       "       [7.00571060e-01],\n",
       "       [2.08288431e-03],\n",
       "       [9.78216410e-01],\n",
       "       [5.36885858e-03],\n",
       "       [8.70831490e-01],\n",
       "       [9.23995495e-01],\n",
       "       [9.77403402e-01],\n",
       "       [2.11000443e-04],\n",
       "       [8.98510218e-03],\n",
       "       [2.02575326e-03],\n",
       "       [1.01208687e-04],\n",
       "       [9.35187638e-02],\n",
       "       [1.62214041e-04],\n",
       "       [1.20202690e-01],\n",
       "       [3.36953998e-03],\n",
       "       [2.27926075e-02],\n",
       "       [9.25158620e-01],\n",
       "       [4.21166420e-04],\n",
       "       [1.94834650e-01],\n",
       "       [6.02573156e-04],\n",
       "       [8.56712341e-01],\n",
       "       [1.74851120e-02],\n",
       "       [1.10870600e-03],\n",
       "       [7.96708465e-03],\n",
       "       [7.00544417e-02],\n",
       "       [1.16527081e-05],\n",
       "       [1.15466118e-03],\n",
       "       [9.21407223e-01],\n",
       "       [9.54667628e-01],\n",
       "       [1.35317445e-03],\n",
       "       [9.92247343e-01],\n",
       "       [6.00948930e-03],\n",
       "       [2.38984823e-04],\n",
       "       [9.95983243e-01],\n",
       "       [9.69067991e-01],\n",
       "       [4.52995300e-05],\n",
       "       [6.11454248e-04],\n",
       "       [2.71382928e-03],\n",
       "       [9.91245627e-01],\n",
       "       [8.53673339e-01],\n",
       "       [9.78825331e-01],\n",
       "       [1.72327459e-02],\n",
       "       [8.08020949e-01],\n",
       "       [2.36330926e-02],\n",
       "       [2.01690197e-03],\n",
       "       [9.02627230e-01],\n",
       "       [1.37302279e-03],\n",
       "       [4.22322750e-03],\n",
       "       [4.06873226e-03],\n",
       "       [9.75183427e-01],\n",
       "       [6.24193609e-01],\n",
       "       [1.52158737e-03],\n",
       "       [9.71165121e-01],\n",
       "       [2.02387571e-04],\n",
       "       [8.17543268e-03],\n",
       "       [9.66178894e-01],\n",
       "       [3.60371768e-02],\n",
       "       [9.71546948e-01],\n",
       "       [9.64110732e-01],\n",
       "       [9.79279935e-01],\n",
       "       [1.18464231e-03],\n",
       "       [9.95121539e-01],\n",
       "       [1.50041610e-01],\n",
       "       [3.48409414e-02],\n",
       "       [8.14543486e-01],\n",
       "       [3.05578113e-03],\n",
       "       [2.30673879e-01],\n",
       "       [1.95974112e-03],\n",
       "       [9.38773155e-06],\n",
       "       [8.63380194e-01],\n",
       "       [9.35011387e-01],\n",
       "       [6.14982843e-03],\n",
       "       [4.06596065e-03],\n",
       "       [8.58616710e-01],\n",
       "       [9.04361010e-01],\n",
       "       [7.99527764e-01],\n",
       "       [1.12682581e-04],\n",
       "       [6.63276076e-01],\n",
       "       [9.83362377e-01],\n",
       "       [1.34804845e-03],\n",
       "       [6.87012911e-01],\n",
       "       [2.50339508e-05],\n",
       "       [1.14691257e-03],\n",
       "       [2.79754400e-04],\n",
       "       [8.76953602e-01],\n",
       "       [8.54611397e-04],\n",
       "       [2.87681818e-04],\n",
       "       [7.54880905e-03],\n",
       "       [3.96490097e-04],\n",
       "       [9.22735274e-01],\n",
       "       [9.69392300e-01],\n",
       "       [9.93544936e-01],\n",
       "       [9.98203039e-01],\n",
       "       [1.65206194e-03],\n",
       "       [7.48342276e-03],\n",
       "       [9.50135648e-01],\n",
       "       [9.97631431e-01],\n",
       "       [6.84813023e-01],\n",
       "       [1.01554096e-02],\n",
       "       [3.96146566e-01],\n",
       "       [1.20208502e-01],\n",
       "       [9.80518937e-01],\n",
       "       [1.06611907e-01],\n",
       "       [8.08285952e-01],\n",
       "       [1.35451257e-02],\n",
       "       [5.76078892e-05],\n",
       "       [2.79814005e-03],\n",
       "       [9.32779431e-01],\n",
       "       [9.87978458e-01],\n",
       "       [8.51122737e-01],\n",
       "       [9.84965444e-01],\n",
       "       [5.88293672e-01],\n",
       "       [9.63262379e-01],\n",
       "       [8.94775629e-01],\n",
       "       [1.15787983e-03],\n",
       "       [9.95507777e-01],\n",
       "       [8.12997162e-01],\n",
       "       [2.46551633e-03],\n",
       "       [5.76090813e-03],\n",
       "       [2.47831047e-02],\n",
       "       [5.01805842e-02],\n",
       "       [9.23040986e-01],\n",
       "       [9.92139101e-01],\n",
       "       [8.14259052e-04],\n",
       "       [9.16586280e-01],\n",
       "       [4.41470742e-03],\n",
       "       [1.61805749e-03],\n",
       "       [9.16732609e-01],\n",
       "       [9.31071103e-01],\n",
       "       [4.38207388e-03],\n",
       "       [1.14260614e-02],\n",
       "       [6.07081354e-02],\n",
       "       [1.41421676e-01],\n",
       "       [1.13724172e-02],\n",
       "       [9.94522333e-01],\n",
       "       [1.30313635e-03],\n",
       "       [9.24426198e-01],\n",
       "       [4.34905291e-04],\n",
       "       [9.84486222e-01],\n",
       "       [9.68411624e-01],\n",
       "       [1.05291605e-04],\n",
       "       [8.48225236e-01],\n",
       "       [1.32828951e-03],\n",
       "       [1.41417801e-01],\n",
       "       [9.20921564e-04],\n",
       "       [9.85343218e-01],\n",
       "       [6.80387020e-05],\n",
       "       [8.02629054e-01],\n",
       "       [9.90423083e-01],\n",
       "       [5.27190864e-02],\n",
       "       [3.47405672e-04],\n",
       "       [8.91630590e-01],\n",
       "       [4.68492508e-04],\n",
       "       [6.25729561e-04],\n",
       "       [9.48739648e-01],\n",
       "       [6.10560179e-04],\n",
       "       [1.72283053e-02],\n",
       "       [9.53247786e-01],\n",
       "       [1.98969245e-03],\n",
       "       [7.06525326e-01],\n",
       "       [9.75298882e-01],\n",
       "       [9.43778872e-01],\n",
       "       [2.12973356e-03],\n",
       "       [9.50893044e-01],\n",
       "       [1.51157379e-04],\n",
       "       [9.34343219e-01],\n",
       "       [9.94842052e-01],\n",
       "       [5.36346436e-03],\n",
       "       [1.32471323e-04],\n",
       "       [7.30749965e-03],\n",
       "       [6.65391743e-01],\n",
       "       [9.64134932e-03],\n",
       "       [8.89935732e-01],\n",
       "       [6.44825876e-01],\n",
       "       [1.71434879e-03],\n",
       "       [1.47262216e-03],\n",
       "       [3.90061736e-03],\n",
       "       [6.31273508e-01],\n",
       "       [7.71482289e-02],\n",
       "       [1.01533532e-03],\n",
       "       [1.41417801e-01],\n",
       "       [7.03632832e-03],\n",
       "       [8.41952324e-01],\n",
       "       [9.67940271e-01],\n",
       "       [5.85854053e-04],\n",
       "       [9.30697799e-01],\n",
       "       [2.54392624e-03],\n",
       "       [3.52311134e-03],\n",
       "       [1.66749954e-03],\n",
       "       [1.28635764e-03],\n",
       "       [3.16321850e-04],\n",
       "       [1.03684962e-02],\n",
       "       [1.93983316e-03],\n",
       "       [8.46818089e-01],\n",
       "       [2.70813704e-04],\n",
       "       [2.06586719e-03],\n",
       "       [9.60365891e-01],\n",
       "       [3.56688917e-01],\n",
       "       [5.74841261e-01],\n",
       "       [6.50819898e-01],\n",
       "       [1.10242069e-02],\n",
       "       [9.36927855e-01],\n",
       "       [2.02036798e-02],\n",
       "       [9.34103370e-01],\n",
       "       [9.16976690e-01],\n",
       "       [9.24136162e-01],\n",
       "       [9.72347736e-01],\n",
       "       [1.41417801e-01],\n",
       "       [4.10911441e-03],\n",
       "       [1.59810185e-02],\n",
       "       [9.63119864e-01],\n",
       "       [7.57674634e-01],\n",
       "       [1.46609545e-03],\n",
       "       [5.13881445e-04],\n",
       "       [9.50904608e-01],\n",
       "       [8.53519738e-02],\n",
       "       [1.54525042e-04],\n",
       "       [1.73538923e-03],\n",
       "       [1.03488564e-03],\n",
       "       [9.51502681e-01],\n",
       "       [6.85410976e-01],\n",
       "       [1.55746937e-02],\n",
       "       [8.32368992e-03],\n",
       "       [2.62055336e-03],\n",
       "       [1.04043512e-02]], dtype=float32)"
      ]
     },
     "execution_count": 132,
     "metadata": {},
     "output_type": "execute_result"
    }
   ],
   "source": [
    "prediction"
   ]
  },
  {
   "cell_type": "code",
   "execution_count": 133,
   "metadata": {},
   "outputs": [],
   "source": [
    "transformed_prediction = [1 if x> 0.5 else 0 for x in prediction]"
   ]
  },
  {
   "cell_type": "code",
   "execution_count": 134,
   "metadata": {},
   "outputs": [
    {
     "data": {
      "text/plain": [
       "'1,1,0,0,0,1,1,0,1,1,0,1,0,1,0,0,0,1,0,1,1,1,0,0,0,1,0,0,1,1,1,1,0,0,0,1,1,0,0,1,1,0,1,0,1,1,1,1,0,0,1,0,1,0,1,1,1,0,0,0,0,0,0,0,0,0,1,0,0,0,1,0,0,0,0,0,0,1,1,0,1,0,0,1,1,0,0,0,1,1,1,0,1,0,0,1,0,0,0,1,1,0,1,0,0,1,0,1,1,1,0,1,0,0,1,0,0,0,0,1,1,0,0,1,1,1,0,1,1,0,1,0,0,0,1,0,0,0,0,1,1,1,1,0,0,1,1,1,0,0,0,1,0,1,0,0,0,1,1,1,1,1,1,1,0,1,1,0,0,0,0,1,1,0,1,0,0,1,1,0,0,0,0,0,1,0,1,0,1,1,0,1,0,0,0,1,0,1,1,0,0,1,0,0,1,0,0,1,0,1,1,1,0,1,0,1,1,0,0,0,1,0,1,1,0,0,0,1,0,0,0,0,1,1,0,1,0,0,0,0,0,0,0,1,0,0,1,0,1,1,0,1,0,1,1,1,1,0,0,0,1,1,0,0,1,0,0,0,0,1,1,0,0,0,0'"
      ]
     },
     "execution_count": 134,
     "metadata": {},
     "output_type": "execute_result"
    }
   ],
   "source": [
    "','.join([str(i) for i in transformed_prediction])"
   ]
  }
 ],
 "metadata": {
  "kernelspec": {
   "display_name": "Python 3",
   "language": "python",
   "name": "python3"
  },
  "language_info": {
   "codemirror_mode": {
    "name": "ipython",
    "version": 3
   },
   "file_extension": ".py",
   "mimetype": "text/x-python",
   "name": "python",
   "nbconvert_exporter": "python",
   "pygments_lexer": "ipython3",
   "version": "3.6.8"
  }
 },
 "nbformat": 4,
 "nbformat_minor": 4
}
